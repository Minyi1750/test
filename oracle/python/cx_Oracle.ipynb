{
 "cells": [
  {
   "cell_type": "code",
   "execution_count": 1,
   "metadata": {},
   "outputs": [],
   "source": [
    "#python连接oracles数据库\n",
    "import cx_Oracle"
   ]
  },
  {
   "cell_type": "code",
   "execution_count": 6,
   "metadata": {},
   "outputs": [],
   "source": [
    "conn = cx_Oracle.connect('biz', 'biz', '192.168.60.30:1521/ORCL')"
   ]
  },
  {
   "cell_type": "code",
   "execution_count": 7,
   "metadata": {},
   "outputs": [],
   "source": [
    "cursor = conn.cursor()"
   ]
  },
  {
   "cell_type": "code",
   "execution_count": 12,
   "metadata": {},
   "outputs": [],
   "source": [
    "sql = '''select  a.USER_ID,a.USERNAME, a.password, a.ACCOUNT_STATUS from dba_users a'''"
   ]
  },
  {
   "cell_type": "code",
   "execution_count": 13,
   "metadata": {},
   "outputs": [
    {
     "name": "stdout",
     "output_type": "stream",
     "text": [
      "(0, 'SYS', None, 'OPEN')\n",
      "(9, 'SYSTEM', None, 'OPEN')\n",
      "(2147483638, 'XS$NULL', None, 'EXPIRED & LOCKED')\n",
      "(2147483617, 'SYSBACKUP', None, 'EXPIRED & LOCKED')\n",
      "(2147483620, 'SYSRAC', None, 'EXPIRED & LOCKED')\n",
      "(2147483619, 'SYSKM', None, 'EXPIRED & LOCKED')\n",
      "(13, 'OUTLN', None, 'EXPIRED & LOCKED')\n",
      "(46, 'SYS$UMF', None, 'EXPIRED & LOCKED')\n",
      "(2147483618, 'SYSDG', None, 'EXPIRED & LOCKED')\n",
      "(54, 'DBSNMP', None, 'EXPIRED & LOCKED')\n",
      "(55, 'APPQOSSYS', None, 'EXPIRED & LOCKED')\n",
      "(35, 'DBSFWUSER', None, 'EXPIRED & LOCKED')\n",
      "(60, 'GGSYS', None, 'EXPIRED & LOCKED')\n",
      "(63, 'ANONYMOUS', None, 'LOCKED')\n",
      "(21, 'GSMADMIN_INTERNAL', None, 'EXPIRED & LOCKED')\n",
      "(62, 'XDB', None, 'EXPIRED & LOCKED')\n",
      "(59, 'GSMCATUSER', None, 'EXPIRED & LOCKED')\n",
      "(34, 'REMOTE_SCHEDULER_AGENT', None, 'EXPIRED & LOCKED')\n",
      "(73, 'HR', None, 'OPEN')\n",
      "(8, 'AUDSYS', None, 'EXPIRED & LOCKED')\n",
      "(23, 'DIP', None, 'EXPIRED & LOCKED')\n",
      "(72, 'BIZ', None, 'OPEN')\n",
      "(39, 'ORACLE_OCM', None, 'EXPIRED & LOCKED')\n",
      "(22, 'GSMUSER', None, 'EXPIRED & LOCKED')\n"
     ]
    }
   ],
   "source": [
    "#执行sql, 并且输出\n",
    "for line in cursor.execute(sql):\n",
    "    print(line)"
   ]
  },
  {
   "cell_type": "code",
   "execution_count": 14,
   "metadata": {},
   "outputs": [],
   "source": [
    "cursor.close()"
   ]
  },
  {
   "cell_type": "code",
   "execution_count": 15,
   "metadata": {},
   "outputs": [],
   "source": [
    "conn.close()"
   ]
  },
  {
   "cell_type": "code",
   "execution_count": null,
   "metadata": {},
   "outputs": [],
   "source": []
  }
 ],
 "metadata": {
  "kernelspec": {
   "display_name": "Python 3",
   "language": "python",
   "name": "python3"
  },
  "language_info": {
   "codemirror_mode": {
    "name": "ipython",
    "version": 3
   },
   "file_extension": ".py",
   "mimetype": "text/x-python",
   "name": "python",
   "nbconvert_exporter": "python",
   "pygments_lexer": "ipython3",
   "version": "3.6.5"
  }
 },
 "nbformat": 4,
 "nbformat_minor": 2
}
